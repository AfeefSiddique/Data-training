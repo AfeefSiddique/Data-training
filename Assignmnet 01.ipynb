{
 "cells": [
  {
   "cell_type": "markdown",
   "id": "74ca5f02",
   "metadata": {},
   "source": [
    "## 01 Area of Circle"
   ]
  },
  {
   "cell_type": "code",
   "execution_count": 5,
   "id": "20558198",
   "metadata": {},
   "outputs": [],
   "source": [
    "import numpy as np\n",
    "import pandas as pd\n",
    "import math as m"
   ]
  },
  {
   "cell_type": "code",
   "execution_count": 2,
   "id": "cfbdb1c1",
   "metadata": {},
   "outputs": [
    {
     "name": "stdout",
     "output_type": "stream",
     "text": [
      "Input the radius of the circle : 5\n",
      "Area of the circle= 78.53981633974483\n"
     ]
    }
   ],
   "source": [
    "r = float(input (\"Input the radius of the circle : \"))\n",
    "Area= m.pi*(r**2)\n",
    "print(\"Area of the circle=\",Area)\n"
   ]
  },
  {
   "cell_type": "markdown",
   "id": "bf9be91a",
   "metadata": {},
   "source": [
    "# 02 Function for Comparison"
   ]
  },
  {
   "cell_type": "code",
   "execution_count": 2,
   "id": "89a5fa73",
   "metadata": {
    "scrolled": true
   },
   "outputs": [
    {
     "name": "stdout",
     "output_type": "stream",
     "text": [
      "Enter first number: 45\n",
      "Enter second number: 5654\n",
      "Enter third number: 555555\n",
      "The largest number is 555555\n"
     ]
    }
   ],
   "source": [
    "n1 = int(input(\"Enter first number: \"))\n",
    "n2 = int(input(\"Enter second number: \"))\n",
    "n3 = int(input(\"Enter third number: \"))\n",
    " \n",
    "if (n1 > n2) and (n1 > n3):\n",
    "   largest = n1\n",
    "elif (n2 > n1) and (n2 > n3):\n",
    "   largest = n2\n",
    "else:\n",
    "   largest = n3\n",
    " \n",
    "print(\"The largest number is\",largest)"
   ]
  },
  {
   "cell_type": "markdown",
   "id": "3a5bf45b",
   "metadata": {},
   "source": [
    "## 03 Convert vowes in 1 and Consonants in 0 "
   ]
  },
  {
   "cell_type": "code",
   "execution_count": 3,
   "id": "2c4fde0e",
   "metadata": {},
   "outputs": [
    {
     "name": "stdout",
     "output_type": "stream",
     "text": [
      "enter the wordtough\n",
      "01100\n"
     ]
    }
   ],
   "source": [
    "def convert_vowels_to_1_consonants_to_0(input_string):\n",
    "    vowels = 'aeiou'\n",
    "    output_string = ''\n",
    "    for char in input_string:\n",
    "        if char.lower() in vowels:\n",
    "            output_string += '1'\n",
    "        else:\n",
    "            output_string += '0'\n",
    "    return output_string\n",
    "\n",
    "input_string = input(\"enter the word\")\n",
    "output_string = convert_vowels_to_1_consonants_to_0(input_string)\n",
    "print(output_string) \n"
   ]
  },
  {
   "cell_type": "markdown",
   "id": "fd29e8bb",
   "metadata": {},
   "source": [
    "## 04 Calculator"
   ]
  },
  {
   "cell_type": "code",
   "execution_count": 8,
   "id": "661490ff",
   "metadata": {},
   "outputs": [
    {
     "name": "stdout",
     "output_type": "stream",
     "text": [
      "choose(1.additio/ 2.subtraction/ 3.Multiplication/ 4.Dvision): 1\n",
      "Enter First Number:456843597\n",
      "Enter Second Number:646465546\n",
      "456843597.0 + 646465546.0 = 1103309143.0\n"
     ]
    }
   ],
   "source": [
    "def add(x,y):\n",
    "    return x+y\n",
    "def sub(x,y):\n",
    "    return x-y\n",
    "def mul(x,y):\n",
    "    return x*y\n",
    "def div(x,y):\n",
    "    return x/y\n",
    "\n",
    "choice = input(\"choose(1.additio/ 2.subtraction/ 3.Multiplication/ 4.Dvision): \")    \n",
    "\n",
    "x = float(input(\"Enter First Number:\"))\n",
    "y = float(input(\"Enter Second Number:\"))\n",
    "\n",
    "if choice == '1':    \n",
    "   print(x,\"+\", y,\"=\",add(x,y))    \n",
    "    \n",
    "if choice == '2':    \n",
    "   print(x,\"-\", y,\"=\",sub(x,y))     \n",
    "    \n",
    "if choice == '3':    \n",
    "   print(x,\"*\", y,\"=\",mul(x,y)) \n",
    "\n",
    "if choice == '4':    \n",
    "   print(x,\"/\", y,\"=\",div(x,y))\n",
    "   "
   ]
  },
  {
   "cell_type": "markdown",
   "id": "74cf8e34",
   "metadata": {},
   "source": [
    "## 05 String iterate"
   ]
  },
  {
   "cell_type": "code",
   "execution_count": 2,
   "id": "dceccc7f",
   "metadata": {
    "scrolled": true
   },
   "outputs": [
    {
     "name": "stdout",
     "output_type": "stream",
     "text": [
      "Input a string\n",
      "hi\n",
      "Repeated String Output:  hihi\n"
     ]
    }
   ],
   "source": [
    "print(\"Input \")\n",
    "string = str(input())\n",
    "result = string+string\n",
    "\n",
    "print (\"Repeated String Output: \",result)"
   ]
  },
  {
   "cell_type": "markdown",
   "id": "4f833592",
   "metadata": {},
   "source": [
    "## 06"
   ]
  },
  {
   "cell_type": "code",
   "execution_count": 2,
   "id": "e2d2c8ac",
   "metadata": {},
   "outputs": [
    {
     "name": "stdout",
     "output_type": "stream",
     "text": [
      "['ux1P5', 'z1aP']\n"
     ]
    }
   ],
   "source": [
    "input_list = [\"ux1P5\", \"rt0\", \"ft3\", \"z1aP\"]\n",
    "output_list = list(filter(lambda x: 'P' in x, input_list))\n",
    "print(output_list)"
   ]
  },
  {
   "cell_type": "code",
   "execution_count": 3,
   "id": "4887e6d3",
   "metadata": {},
   "outputs": [
    {
     "name": "stdout",
     "output_type": "stream",
     "text": [
      "['ux1P5', 'rt0P', 'ft3P', 'z1aP']\n"
     ]
    }
   ],
   "source": [
    "input_list = [\"ux1P5\", \"rt0\", \"ft3\", \"z1aP\"]\n",
    "output_list = list(map(lambda x: x + 'P' if 'P' not in x else x, input_list))\n",
    "print(output_list)\n"
   ]
  },
  {
   "cell_type": "code",
   "execution_count": 6,
   "id": "9374155c",
   "metadata": {},
   "outputs": [
    {
     "name": "stdout",
     "output_type": "stream",
     "text": [
      "[21]\n"
     ]
    }
   ],
   "source": [
    "from functools import reduce\n",
    "input_list = [1, 2, 3, 4,5,6]\n",
    "output = reduce(lambda x, y: x+y, input_list)\n",
    "print([output])\n"
   ]
  },
  {
   "cell_type": "code",
   "execution_count": 7,
   "id": "78497305",
   "metadata": {},
   "outputs": [
    {
     "name": "stdout",
     "output_type": "stream",
     "text": [
      "[36]\n"
     ]
    }
   ],
   "source": [
    "input_list = [1, 2, 3, 4,5,6,7,8]\n",
    "output = sum(input_list)\n",
    "print([output])\n"
   ]
  },
  {
   "cell_type": "markdown",
   "id": "90d699e3",
   "metadata": {},
   "source": [
    "# 07 Dataset\n"
   ]
  },
  {
   "cell_type": "code",
   "execution_count": 6,
   "id": "989f7453",
   "metadata": {},
   "outputs": [
    {
     "data": {
      "text/html": [
       "<div>\n",
       "<style scoped>\n",
       "    .dataframe tbody tr th:only-of-type {\n",
       "        vertical-align: middle;\n",
       "    }\n",
       "\n",
       "    .dataframe tbody tr th {\n",
       "        vertical-align: top;\n",
       "    }\n",
       "\n",
       "    .dataframe thead th {\n",
       "        text-align: right;\n",
       "    }\n",
       "</style>\n",
       "<table border=\"1\" class=\"dataframe\">\n",
       "  <thead>\n",
       "    <tr style=\"text-align: right;\">\n",
       "      <th></th>\n",
       "      <th>Unnamed: 0</th>\n",
       "      <th>item_code</th>\n",
       "      <th>item_name</th>\n",
       "      <th>display_level</th>\n",
       "      <th>selectable</th>\n",
       "      <th>sort_sequence</th>\n",
       "    </tr>\n",
       "  </thead>\n",
       "  <tbody>\n",
       "    <tr>\n",
       "      <th>0</th>\n",
       "      <td>0</td>\n",
       "      <td>AA0</td>\n",
       "      <td>All items - old base</td>\n",
       "      <td>0</td>\n",
       "      <td>T</td>\n",
       "      <td>2</td>\n",
       "    </tr>\n",
       "    <tr>\n",
       "      <th>1</th>\n",
       "      <td>1</td>\n",
       "      <td>AA0R</td>\n",
       "      <td>Purchasing power of the consumer dollar - old ...</td>\n",
       "      <td>0</td>\n",
       "      <td>T</td>\n",
       "      <td>400</td>\n",
       "    </tr>\n",
       "    <tr>\n",
       "      <th>2</th>\n",
       "      <td>2</td>\n",
       "      <td>SA0</td>\n",
       "      <td>All items</td>\n",
       "      <td>0</td>\n",
       "      <td>T</td>\n",
       "      <td>1</td>\n",
       "    </tr>\n",
       "    <tr>\n",
       "      <th>3</th>\n",
       "      <td>3</td>\n",
       "      <td>SA0E</td>\n",
       "      <td>Energy</td>\n",
       "      <td>1</td>\n",
       "      <td>T</td>\n",
       "      <td>375</td>\n",
       "    </tr>\n",
       "    <tr>\n",
       "      <th>4</th>\n",
       "      <td>4</td>\n",
       "      <td>SA0L1</td>\n",
       "      <td>All items less food</td>\n",
       "      <td>1</td>\n",
       "      <td>T</td>\n",
       "      <td>359</td>\n",
       "    </tr>\n",
       "    <tr>\n",
       "      <th>5</th>\n",
       "      <td>5</td>\n",
       "      <td>SA0L12</td>\n",
       "      <td>All items less food and shelter</td>\n",
       "      <td>1</td>\n",
       "      <td>T</td>\n",
       "      <td>362</td>\n",
       "    </tr>\n",
       "    <tr>\n",
       "      <th>6</th>\n",
       "      <td>6</td>\n",
       "      <td>SA0L12E</td>\n",
       "      <td>All items less food, shelter, and energy</td>\n",
       "      <td>1</td>\n",
       "      <td>T</td>\n",
       "      <td>363</td>\n",
       "    </tr>\n",
       "    <tr>\n",
       "      <th>7</th>\n",
       "      <td>7</td>\n",
       "      <td>SA0L12E4</td>\n",
       "      <td>All items less food, shelter, energy, and used...</td>\n",
       "      <td>1</td>\n",
       "      <td>T</td>\n",
       "      <td>364</td>\n",
       "    </tr>\n",
       "    <tr>\n",
       "      <th>8</th>\n",
       "      <td>8</td>\n",
       "      <td>SA0L1E</td>\n",
       "      <td>All items less food and energy</td>\n",
       "      <td>1</td>\n",
       "      <td>T</td>\n",
       "      <td>360</td>\n",
       "    </tr>\n",
       "    <tr>\n",
       "      <th>9</th>\n",
       "      <td>9</td>\n",
       "      <td>SA0L2</td>\n",
       "      <td>All items less shelter</td>\n",
       "      <td>1</td>\n",
       "      <td>T</td>\n",
       "      <td>361</td>\n",
       "    </tr>\n",
       "  </tbody>\n",
       "</table>\n",
       "</div>"
      ],
      "text/plain": [
       "   Unnamed: 0 item_code                                          item_name  \\\n",
       "0           0       AA0                               All items - old base   \n",
       "1           1      AA0R  Purchasing power of the consumer dollar - old ...   \n",
       "2           2       SA0                                          All items   \n",
       "3           3      SA0E                                             Energy   \n",
       "4           4     SA0L1                                All items less food   \n",
       "5           5    SA0L12                    All items less food and shelter   \n",
       "6           6   SA0L12E           All items less food, shelter, and energy   \n",
       "7           7  SA0L12E4  All items less food, shelter, energy, and used...   \n",
       "8           8    SA0L1E                     All items less food and energy   \n",
       "9           9     SA0L2                             All items less shelter   \n",
       "\n",
       "   display_level selectable  sort_sequence  \n",
       "0              0          T              2  \n",
       "1              0          T            400  \n",
       "2              0          T              1  \n",
       "3              1          T            375  \n",
       "4              1          T            359  \n",
       "5              1          T            362  \n",
       "6              1          T            363  \n",
       "7              1          T            364  \n",
       "8              1          T            360  \n",
       "9              1          T            361  "
      ]
     },
     "execution_count": 6,
     "metadata": {},
     "output_type": "execute_result"
    }
   ],
   "source": [
    "file = pd.read_csv(\"wine.csv\")\n",
    "file.head(10)\n"
   ]
  },
  {
   "cell_type": "code",
   "execution_count": 7,
   "id": "57baf506",
   "metadata": {},
   "outputs": [
    {
     "name": "stdout",
     "output_type": "stream",
     "text": [
      "363\n"
     ]
    }
   ],
   "source": [
    "print(file.loc[6,\"sort_sequence\"])\n",
    "file2 = file.loc[0:9]"
   ]
  },
  {
   "cell_type": "code",
   "execution_count": 60,
   "id": "3570a5de",
   "metadata": {},
   "outputs": [
    {
     "name": "stdout",
     "output_type": "stream",
     "text": [
      "   Unnamed: 0 item_code                                          item_name  \\\n",
      "0           0       AA0                               All items - old base   \n",
      "1           1      AA0R  Purchasing power of the consumer dollar - old ...   \n",
      "2           2       SA0                                          All items   \n",
      "3           3      SA0E                                             Energy   \n",
      "4           4     SA0L1                                All items less food   \n",
      "5           5    SA0L12                    All items less food and shelter   \n",
      "6           6   SA0L12E           All items less food, shelter, and energy   \n",
      "7           7  SA0L12E4  All items less food, shelter, energy, and used...   \n",
      "8           8    SA0L1E                     All items less food and energy   \n",
      "9           9     SA0L2                             All items less shelter   \n",
      "\n",
      "   display_level selectable  sort_sequence  \n",
      "0              0          T              2  \n",
      "1              0          T            400  \n",
      "2              0          T              1  \n",
      "3              1          T            375  \n",
      "4              1          T            359  \n",
      "5              1          T            362  \n",
      "6              1          T            363  \n",
      "7              1          T            364  \n",
      "8              1          T            360  \n",
      "9              1          T            361  \n"
     ]
    }
   ],
   "source": [
    "file2 = file.loc[0:9]\n",
    "print(file2)"
   ]
  },
  {
   "cell_type": "code",
   "execution_count": 8,
   "id": "d6871574",
   "metadata": {},
   "outputs": [],
   "source": [
    "file2.to_pickle(\"pick.pkl\")"
   ]
  },
  {
   "cell_type": "code",
   "execution_count": 11,
   "id": "8da55e62",
   "metadata": {},
   "outputs": [
    {
     "name": "stdout",
     "output_type": "stream",
     "text": [
      "   Unnamed: 0 item_code                                          item_name  \\\n",
      "0           0       AA0                               All items - old base   \n",
      "1           1      AA0R  Purchasing power of the consumer dollar - old ...   \n",
      "2           2       SA0                                          All items   \n",
      "3           3      SA0E                                             Energy   \n",
      "4           4     SA0L1                                All items less food   \n",
      "5           5    SA0L12                    All items less food and shelter   \n",
      "6           6   SA0L12E           All items less food, shelter, and energy   \n",
      "7           7  SA0L12E4  All items less food, shelter, energy, and used...   \n",
      "8           8    SA0L1E                     All items less food and energy   \n",
      "9           9     SA0L2                             All items less shelter   \n",
      "\n",
      "   display_level selectable  sort_sequence  \n",
      "0              0          T              2  \n",
      "1              0          T            400  \n",
      "2              0          T              1  \n",
      "3              1          T            375  \n",
      "4              1          T            359  \n",
      "5              1          T            362  \n",
      "6              1          T            363  \n",
      "7              1          T            364  \n",
      "8              1          T            360  \n",
      "9              1          T            361  \n"
     ]
    }
   ],
   "source": [
    "file3  = pd.read_pickle(\"pick.pkl\")\n",
    "print(file3)"
   ]
  },
  {
   "cell_type": "code",
   "execution_count": null,
   "id": "0ca516ab",
   "metadata": {},
   "outputs": [],
   "source": []
  }
 ],
 "metadata": {
  "kernelspec": {
   "display_name": "Python 3 (ipykernel)",
   "language": "python",
   "name": "python3"
  },
  "language_info": {
   "codemirror_mode": {
    "name": "ipython",
    "version": 3
   },
   "file_extension": ".py",
   "mimetype": "text/x-python",
   "name": "python",
   "nbconvert_exporter": "python",
   "pygments_lexer": "ipython3",
   "version": "3.10.2"
  }
 },
 "nbformat": 4,
 "nbformat_minor": 5
}
