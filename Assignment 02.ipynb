{
 "cells": [
  {
   "cell_type": "markdown",
   "id": "9c122333",
   "metadata": {},
   "source": [
    "## 01 Display Float Number"
   ]
  },
  {
   "cell_type": "code",
   "execution_count": 4,
   "id": "9a688089",
   "metadata": {},
   "outputs": [
    {
     "name": "stdout",
     "output_type": "stream",
     "text": [
      "Enter the Number: 2.564\n",
      "The number is 2.56\n"
     ]
    }
   ],
   "source": [
    "num =float(input(\"Enter the Number: \"))\n",
    "print(\"The number is {:.2f}\".format(num))\n"
   ]
  },
  {
   "cell_type": "markdown",
   "id": "9e3c833c",
   "metadata": {},
   "source": [
    "## 02 Display List of FLoat Numbers"
   ]
  },
  {
   "cell_type": "code",
   "execution_count": 8,
   "id": "d80540c1",
   "metadata": {},
   "outputs": [
    {
     "name": "stdout",
     "output_type": "stream",
     "text": [
      "Enter elements of a list separated by space 2 334 564567 \n",
      "list:  ['2', '334', '564567']\n"
     ]
    }
   ],
   "source": [
    "user_input = input('Enter elements of a list separated by space ')\n",
    "user_list = user_input.split()\n",
    "print('list: ', user_list)"
   ]
  },
  {
   "cell_type": "markdown",
   "id": "1be90412",
   "metadata": {},
   "source": [
    "## Print Natural Numbers"
   ]
  },
  {
   "cell_type": "code",
   "execution_count": 10,
   "id": "a43baf83",
   "metadata": {},
   "outputs": [
    {
     "name": "stdout",
     "output_type": "stream",
     "text": [
      "Enter the Range:25\n",
      "1\n",
      "2\n",
      "3\n",
      "4\n",
      "5\n",
      "6\n",
      "7\n",
      "8\n",
      "9\n",
      "10\n",
      "11\n",
      "12\n",
      "13\n",
      "14\n",
      "15\n",
      "16\n",
      "17\n",
      "18\n",
      "19\n",
      "20\n",
      "21\n",
      "22\n",
      "23\n",
      "24\n",
      "25\n"
     ]
    }
   ],
   "source": [
    "n=int(input(\"Enter the Range:\"))\n",
    "i = 1\n",
    "while(i<=n):\n",
    "    print(i)\n",
    "    i += 1"
   ]
  },
  {
   "cell_type": "markdown",
   "id": "f69c8aac",
   "metadata": {},
   "source": [
    "## Reverse serial"
   ]
  },
  {
   "cell_type": "code",
   "execution_count": 12,
   "id": "d7378408",
   "metadata": {},
   "outputs": [
    {
     "name": "stdout",
     "output_type": "stream",
     "text": [
      "Enter the Range:10\n",
      "-10\n",
      "-9\n",
      "-8\n",
      "-7\n",
      "-6\n",
      "-5\n",
      "-4\n",
      "-3\n",
      "-2\n",
      "-1\n"
     ]
    }
   ],
   "source": [
    "n = int(input(\"Enter the Range:\"))\n",
    "for i in range(-n, 0):\n",
    "    print(i)\n"
   ]
  },
  {
   "cell_type": "markdown",
   "id": "888660b9",
   "metadata": {},
   "source": [
    "## Count Digits in a Number"
   ]
  },
  {
   "cell_type": "code",
   "execution_count": 14,
   "id": "ab95c62e",
   "metadata": {},
   "outputs": [
    {
     "name": "stdout",
     "output_type": "stream",
     "text": [
      "Enter the Number:25649798\n",
      "Number of digits: 8\n"
     ]
    }
   ],
   "source": [
    "num =  int(input(\"Enter the Number:\"))\n",
    "count = 0\n",
    "\n",
    "while num != 0:\n",
    "    num //= 10\n",
    "    count += 1\n",
    "\n",
    "print(\"Number of digits: \" + str(count))"
   ]
  },
  {
   "cell_type": "markdown",
   "id": "21bbf581",
   "metadata": {},
   "source": [
    "## Factorial "
   ]
  },
  {
   "cell_type": "code",
   "execution_count": 15,
   "id": "19b69855",
   "metadata": {},
   "outputs": [
    {
     "name": "stdout",
     "output_type": "stream",
     "text": [
      "Enter the Number:8\n",
      "The factorial of 8 is 40320\n"
     ]
    }
   ],
   "source": [
    "num = int(input(\"Enter the Number:\"))\n",
    "factorial = 1\n",
    "if num < 0:\n",
    "   print(\"Factorial does not exist for negative numbers\")\n",
    "elif num == 0:\n",
    "   print(\"The factorial of 0 is 1\")\n",
    "else:\n",
    "   for i in range(1,num + 1):\n",
    "       factorial = factorial*i\n",
    "   print(\"The factorial of\",num,\"is\",factorial)"
   ]
  },
  {
   "cell_type": "markdown",
   "id": "d597a42c",
   "metadata": {},
   "source": [
    "## Print Triangle Numbers "
   ]
  },
  {
   "cell_type": "code",
   "execution_count": 16,
   "id": "19920688",
   "metadata": {},
   "outputs": [
    {
     "name": "stdout",
     "output_type": "stream",
     "text": [
      "1 \n",
      "1 2 \n",
      "1 2 3 \n",
      "1 2 3 4 \n",
      "1 2 3 4 5 \n"
     ]
    }
   ],
   "source": [
    "for i in range(1, 6):\n",
    "    for j in range(1, i+1):\n",
    "        print(j, end=\" \")\n",
    "    print()"
   ]
  }
 ],
 "metadata": {
  "kernelspec": {
   "display_name": "Python 3 (ipykernel)",
   "language": "python",
   "name": "python3"
  },
  "language_info": {
   "codemirror_mode": {
    "name": "ipython",
    "version": 3
   },
   "file_extension": ".py",
   "mimetype": "text/x-python",
   "name": "python",
   "nbconvert_exporter": "python",
   "pygments_lexer": "ipython3",
   "version": "3.10.2"
  }
 },
 "nbformat": 4,
 "nbformat_minor": 5
}
