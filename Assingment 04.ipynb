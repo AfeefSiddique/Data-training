{
 "cells": [
  {
   "cell_type": "markdown",
   "id": "93516b15",
   "metadata": {},
   "source": [
    "## 01 Reverse a list"
   ]
  },
  {
   "cell_type": "code",
   "execution_count": 17,
   "id": "c24575f6",
   "metadata": {},
   "outputs": [
    {
     "name": "stdout",
     "output_type": "stream",
     "text": [
      "Enter the string:  How ya doin'!\n",
      "\n",
      "\n",
      "Printing String:\n",
      "[\"doin'!\", 'ya', 'How']\n",
      "Enter number of elements : 5\n",
      "1\n",
      "23\n",
      "34\n",
      "26\n",
      "1\n",
      "[1, 23, 34, 26, 1]\n",
      "[1, 26, 34, 23, 1]\n"
     ]
    }
   ],
   "source": [
    "input_string = input(\"Enter the string:  \")\n",
    "string_list = input_string.split(\" \")\n",
    "print(\"\\n\")\n",
    "print(\"Printing String:\")\n",
    "for name in string_list:\n",
    "    string_list.reverse()\n",
    "    print(string_list)\n",
    "    break\n",
    "\n",
    "my_list = []\n",
    "n = int(input(\"Enter number of elements : \"))\n",
    "for i in range(0, n):\n",
    "\tele = int(input())\n",
    "\n",
    "\tmy_list.append(ele) \n",
    "\t\n",
    "print(my_list)\n",
    "my_list.reverse()\n",
    "print(my_list)\n",
    "    "
   ]
  },
  {
   "cell_type": "markdown",
   "id": "4ea4f97b",
   "metadata": {},
   "source": [
    "## 02 Concatenate two lists index-wise. "
   ]
  },
  {
   "cell_type": "code",
   "execution_count": 9,
   "id": "dfc64b9a",
   "metadata": {},
   "outputs": [
    {
     "name": "stdout",
     "output_type": "stream",
     "text": [
      "Enter the string:  Paisa  Paisa  \n",
      "\n",
      "\n",
      "Printing String:\n",
      "['Paisa', '', 'Paisa', '', '']\n",
      "Enter the string:   hi  hoga\n",
      "\n",
      "\n",
      "Printing String:\n",
      "['', 'hi', '', 'hoga']\n",
      "The original list 1 is : ['Paisa', '', 'Paisa', '', '']\n",
      "The original list 2 is : ['', 'hi', '', 'hoga']\n",
      "The list after element concatenation is : ['Paisa', 'hi', 'Paisa', 'hoga']\n"
     ]
    }
   ],
   "source": [
    "input_string1 = input(\"Enter the string:  \")\n",
    "string_list1 = input_string1.split(\" \")\n",
    "print(\"\\n\")\n",
    "print(\"Printing String:\")\n",
    "for name in string_list1:\n",
    "    print(string_list1)\n",
    "    break\n",
    "input_string2 = input(\"Enter the string:  \")\n",
    "string_list2 = input_string2.split(\" \")\n",
    "print(\"\\n\")\n",
    "print(\"Printing String:\")\n",
    "for name in string_list2:\n",
    "    print(string_list2)\n",
    "    break\n",
    "print (\"The original list 1 is : \" + str(string_list1))\n",
    "print (\"The original list 2 is : \" + str(string_list2))\n",
    "res = [i + j for i, j in zip(string_list1, string_list2)]\n",
    "print (\"The list after element concatenation is : \" + str(res))"
   ]
  },
  {
   "cell_type": "markdown",
   "id": "6556e310",
   "metadata": {},
   "source": [
    "## 03Turn every number of a list into its square "
   ]
  },
  {
   "cell_type": "code",
   "execution_count": 23,
   "id": "a07cefdc",
   "metadata": {},
   "outputs": [
    {
     "name": "stdout",
     "output_type": "stream",
     "text": [
      "Enter number of elements : 2\n",
      "5\n",
      "6\n",
      "[5, 6]\n",
      "[25, 36]\n"
     ]
    }
   ],
   "source": [
    "my_list = []\n",
    "n = int(input(\"Enter number of elements : \"))\n",
    "for i in range(0, n):\n",
    "\tele = int(input())\n",
    "\n",
    "\tmy_list.append(ele) \n",
    "\t\n",
    "print(my_list)\n",
    "my_squared_list=[int(my_list[i])**2 for i in range(len(my_list))]\n",
    "print(my_squared_list)"
   ]
  },
  {
   "cell_type": "markdown",
   "id": "7a158f15",
   "metadata": {},
   "source": [
    "## 04 Remove empty strings from the list of strings. "
   ]
  },
  {
   "cell_type": "code",
   "execution_count": 25,
   "id": "1143b55b",
   "metadata": {},
   "outputs": [
    {
     "name": "stdout",
     "output_type": "stream",
     "text": [
      "Enter the string:        Goodness  gracious, great   balls of    fire\n",
      "\n",
      "\n",
      "Printing String:\n",
      "['', '', '', '', '', '', 'Goodness', '', 'gracious,', 'great', '', '', 'balls', 'of', '', '', '', 'fire']\n",
      "Original list is : ['', '', '', '', '', '', 'Goodness', '', 'gracious,', 'great', '', '', 'balls', 'of', '', '', '', 'fire']\n",
      "Modified list is : ['Goodness', 'gracious,', 'great', 'balls', 'of', 'fire']\n"
     ]
    }
   ],
   "source": [
    "input_string = input(\"Enter the string:  \")\n",
    "string_list = input_string.split(\" \")\n",
    "print(\"\\n\")\n",
    "print(\"Printing String:\")\n",
    "for name in string_list:\n",
    "    print(string_list)\n",
    "    break\n",
    "\n",
    "# Printing original list\n",
    "print(\"Original list is : \" + str(string_list))\n",
    "\n",
    "# using remove() to\n",
    "# perform removal\n",
    "while(\"\" in string_list):\n",
    "\tstring_list.remove(\"\")\n",
    "\n",
    "# Printing modified list\n",
    "print(\"Modified list is : \" + str(string_list))\n"
   ]
  },
  {
   "cell_type": "markdown",
   "id": "cdf37276",
   "metadata": {},
   "source": [
    "## 05 Add a list of elements to a set."
   ]
  },
  {
   "cell_type": "code",
   "execution_count": 16,
   "id": "e5609fbc",
   "metadata": {},
   "outputs": [
    {
     "name": "stdout",
     "output_type": "stream",
     "text": [
      "Enter a list of numbers and/or strings separated by commas: Rise,of,Water\n",
      "Enter a set of numbers and/or strings separated by commas: Avatar,2\n",
      "{'of', 2, 'Rise', 'Water', 'Avatar'}\n"
     ]
    }
   ],
   "source": [
    "user_input_list = input(\"Enter a list of numbers and/or strings: \")\n",
    "user_list = user_input_list.split(\",\")\n",
    "user_list = [int(x) if x.isdigit() else x for x in user_list]\n",
    "user_input_set = input(\"Enter a set of numbers and/or strings: \")\n",
    "user_set = set(user_input_set.split(\",\"))\n",
    "user_set = {int(x) if x.isdigit() else x for x in user_set}\n",
    "user_set.update(user_list)\n",
    "print(user_set)\n",
    "\n"
   ]
  },
  {
   "cell_type": "markdown",
   "id": "44cd3fbb",
   "metadata": {},
   "source": [
    "## 06 Return a set of elements present in Set A or B, but not both "
   ]
  },
  {
   "cell_type": "code",
   "execution_count": 17,
   "id": "b49dd0c2",
   "metadata": {},
   "outputs": [
    {
     "name": "stdout",
     "output_type": "stream",
     "text": [
      "Enter the elements of Set A, separated by spaces: 1 23 45 35 6 46\n",
      "Enter the elements of Set B, separated by spaces: 1 23245 6 46 \n",
      "The elements present in Set A or Set B, but not both, are: {'35', '23', '45', '23245'}\n"
     ]
    }
   ],
   "source": [
    "set_a = set(input(\"Enter the elements of Set A: \").split())\n",
    "\n",
    "set_b = set(input(\"Enter the elements of Set B: \").split())\n",
    "\n",
    "#difference\n",
    "result_set = set_a ^ set_b\n",
    "\n",
    "print(\"The elements present in Set A or Set B, but not both, are:\", result_set)\n"
   ]
  },
  {
   "cell_type": "markdown",
   "id": "bbddca58",
   "metadata": {},
   "source": [
    "## 07 Convert two lists into a dictionary."
   ]
  },
  {
   "cell_type": "code",
   "execution_count": 18,
   "id": "e21056e0",
   "metadata": {},
   "outputs": [
    {
     "name": "stdout",
     "output_type": "stream",
     "text": [
      "Enter keys : November June\n",
      "Enter values : Too_cold Too_hot\n",
      "{'November': 'Too_cold', 'June': 'Too_hot'}\n"
     ]
    }
   ],
   "source": [
    "keys = input(\"Enter keys : \").split(\" \")\n",
    "values = input(\"Enter values : \").split(\" \")\n",
    "\n",
    "my_dictionary = dict(zip(keys, values))\n",
    "print(my_dictionary)\n"
   ]
  },
  {
   "cell_type": "markdown",
   "id": "4de9159e",
   "metadata": {},
   "source": [
    "## 08 Merge two Python dictionaries into one "
   ]
  },
  {
   "cell_type": "code",
   "execution_count": 1,
   "id": "dedfcee0",
   "metadata": {},
   "outputs": [
    {
     "name": "stdout",
     "output_type": "stream",
     "text": [
      "Information regarding first dictionary\n",
      "Enter keys for the first dictionary : a b\n",
      "Enter values for the first dictionary : 1 2\n",
      "{'a': '1', 'b': '2'}\n",
      "Information regarding second dictionary\n",
      "Enter keys for the second dictionary : c d\n",
      "Enter values for the second dictionary : 3 4\n",
      "{'c': '3', 'd': '4'}\n",
      "Merged dictionary: {'a': '1', 'b': '2', 'c': '3', 'd': '4'}\n"
     ]
    }
   ],
   "source": [
    "import json\n",
    "print(\"Information regarding first dictionary\")\n",
    "keys1 = input(\"Enter keys for the first dictionary : \").split(\" \")\n",
    "values1 = input(\"Enter values for the first dictionary : \").split(\" \")\n",
    "dictionary_str1 = dict(zip(keys1, values1))\n",
    "print(dictionary_str1)\n",
    "print(\"Information regarding second dictionary\")\n",
    "keys2 = input(\"Enter keys for the second dictionary : \").split(\" \")\n",
    "values2 = input(\"Enter values for the second dictionary : \").split(\" \")\n",
    "dictionary_str2 = dict(zip(keys2, values2))\n",
    "print(dictionary_str2)\n",
    "\n",
    "merged_dictionary = dictionary_str1.copy()\n",
    "merged_dictionary.update(dictionary_str2)\n",
    "\n",
    "print(\"Merged dictionary:\", merged_dictionary)\n"
   ]
  },
  {
   "cell_type": "markdown",
   "id": "7359b669",
   "metadata": {},
   "source": [
    "## 09 Rename a key of a dictionary "
   ]
  },
  {
   "cell_type": "code",
   "execution_count": 5,
   "id": "56b578bb",
   "metadata": {},
   "outputs": [
    {
     "name": "stdout",
     "output_type": "stream",
     "text": [
      "{'Robert_Pattinson': 'Batman'}\n"
     ]
    }
   ],
   "source": [
    "Batman_roles = {'Ben_Affleck': 'Batman'}\n",
    "new_key = 'Robert_Pattinson'\n",
    "\n",
    "\n",
    "Batman_roles[new_key] = Batman_roles.pop('Ben_Affleck')\n",
    "\n",
    "\n",
    "print(Batman_roles) \n"
   ]
  },
  {
   "cell_type": "markdown",
   "id": "b80b15cc",
   "metadata": {},
   "source": [
    "## 10 Sort a tuple of tuples by 2nd item. "
   ]
  },
  {
   "cell_type": "code",
   "execution_count": 6,
   "id": "fef83185",
   "metadata": {},
   "outputs": [
    {
     "name": "stdout",
     "output_type": "stream",
     "text": [
      "Enter a comma-separated list of tuples: python,1;c++,2;php,3;html,4\n",
      "[('python', '1'), ('c++', '2'), ('php', '3'), ('html', '4')]\n"
     ]
    }
   ],
   "source": [
    "input_tuple = input(\"Enter a comma-separated list of tuples: \")\n",
    "my_tuple = tuple(tuple(map(str.strip, item.split(','))) for item in input_tuple.split(';'))\n",
    "sorted_tuple = sorted(my_tuple, key=lambda x: x[1])\n",
    "print(sorted_tuple)\n"
   ]
  }
 ],
 "metadata": {
  "kernelspec": {
   "display_name": "Python 3 (ipykernel)",
   "language": "python",
   "name": "python3"
  },
  "language_info": {
   "codemirror_mode": {
    "name": "ipython",
    "version": 3
   },
   "file_extension": ".py",
   "mimetype": "text/x-python",
   "name": "python",
   "nbconvert_exporter": "python",
   "pygments_lexer": "ipython3",
   "version": "3.10.2"
  }
 },
 "nbformat": 4,
 "nbformat_minor": 5
}
