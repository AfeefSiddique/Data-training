{
 "cells": [
  {
   "cell_type": "markdown",
   "id": "025afe18",
   "metadata": {},
   "source": [
    "## 01 Create a Vehicle class without any variables and methods."
   ]
  },
  {
   "cell_type": "code",
   "execution_count": 2,
   "id": "9457dc08",
   "metadata": {},
   "outputs": [],
   "source": [
    "class Vehicle:\n",
    "    pass\n"
   ]
  },
  {
   "cell_type": "markdown",
   "id": "86f16759",
   "metadata": {},
   "source": [
    "## 02 Create a Class with instance attributes. "
   ]
  },
  {
   "cell_type": "code",
   "execution_count": 9,
   "id": "303703e2",
   "metadata": {},
   "outputs": [
    {
     "name": "stdout",
     "output_type": "stream",
     "text": [
      "mitsubishi \n",
      "evo x\n",
      "2020\n"
     ]
    }
   ],
   "source": [
    "class Car:\n",
    "    def __init__(self, make, model, year):\n",
    "        self.make = make\n",
    "        self.model = model\n",
    "        self.year = year\n",
    "my_car = Car(\"mitsubishi \", \"evo x\", 2020)\n",
    "print(my_car.make)  \n",
    "print(my_car.model)\n",
    "print(my_car.year) \n",
    "\n",
    "\n",
    "\n"
   ]
  },
  {
   "cell_type": "markdown",
   "id": "31d38b96",
   "metadata": {},
   "source": [
    "## 03  "
   ]
  },
  {
   "cell_type": "code",
   "execution_count": 12,
   "id": "eb70a785",
   "metadata": {},
   "outputs": [
    {
     "name": "stdout",
     "output_type": "stream",
     "text": [
      "Model School bus\n",
      "40\n",
      "6\n"
     ]
    }
   ],
   "source": [
    "class Vehicle:\n",
    "    def __init__(self, name, max_speed, mileage):\n",
    "        self.name = name\n",
    "        self.max_speed = max_speed\n",
    "        self.mileage = mileage\n",
    "\n",
    "class Bus(Vehicle):\n",
    "    pass\n",
    "my_bus = Bus(\"Model School bus\", 40, 6)\n",
    "print(my_bus.name) \n",
    "print(my_bus.max_speed) \n",
    "print(my_bus.mileage)\n"
   ]
  }
 ],
 "metadata": {
  "kernelspec": {
   "display_name": "Python 3 (ipykernel)",
   "language": "python",
   "name": "python3"
  },
  "language_info": {
   "codemirror_mode": {
    "name": "ipython",
    "version": 3
   },
   "file_extension": ".py",
   "mimetype": "text/x-python",
   "name": "python",
   "nbconvert_exporter": "python",
   "pygments_lexer": "ipython3",
   "version": "3.10.2"
  }
 },
 "nbformat": 4,
 "nbformat_minor": 5
}
