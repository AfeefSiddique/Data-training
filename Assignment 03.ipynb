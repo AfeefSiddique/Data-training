{
 "cells": [
  {
   "cell_type": "markdown",
   "id": "83a8535c",
   "metadata": {},
   "source": [
    "## String Breakdown "
   ]
  },
  {
   "cell_type": "code",
   "execution_count": 8,
   "id": "e389341a",
   "metadata": {},
   "outputs": [
    {
     "name": "stdout",
     "output_type": "stream",
     "text": [
      "Enter the String:ArticMonkey\n",
      "ArticMonkey\n",
      "11\n",
      "The final output: AMy\n"
     ]
    }
   ],
   "source": [
    "orginal_str=input(\"Enter the String:\")\n",
    "print(orginal_str)\n",
    "length=len(orginal_str)\n",
    "print(length)\n",
    "middle=int(length/2)\n",
    "Final_output=orginal_str[0]+orginal_str[middle]+orginal_str[length-1]\n",
    "print(\"The final output:\", Final_output)"
   ]
  },
  {
   "cell_type": "markdown",
   "id": "4ca44320",
   "metadata": {},
   "source": [
    "## Uppercase Lowercase study "
   ]
  },
  {
   "cell_type": "code",
   "execution_count": 10,
   "id": "9a19d4d5",
   "metadata": {},
   "outputs": [
    {
     "name": "stdout",
     "output_type": "stream",
     "text": [
      "Enter the String:IfTheHeavensEverDidspeak\n",
      "fheeavensveridspeakITHED\n"
     ]
    }
   ],
   "source": [
    "orginal_str=input(\"Enter the String:\")\n",
    "lowercase = \"\"\n",
    "uppercase = \"\"\n",
    "for char in orginal_str:\n",
    "    if char.islower():\n",
    "        lowercase += char\n",
    "    else:\n",
    "        uppercase += char\n",
    "result = lowercase + uppercase\n",
    "print(result)\n"
   ]
  },
  {
   "cell_type": "markdown",
   "id": "6768b512",
   "metadata": {},
   "source": [
    "## Count in string"
   ]
  },
  {
   "cell_type": "code",
   "execution_count": 11,
   "id": "2c8c969f",
   "metadata": {},
   "outputs": [
    {
     "name": "stdout",
     "output_type": "stream",
     "text": [
      "Enter the String:Hakunam@t@007\n",
      "Letters: 8\n",
      "Digits: 3\n",
      "Symbols: 2\n"
     ]
    }
   ],
   "source": [
    "orginal_str=input(\"Enter the String:\")\n",
    "letters = 0\n",
    "digits = 0\n",
    "symbols = 0\n",
    "for char in orginal_str:\n",
    "    if char.isalpha():\n",
    "        letters += 1\n",
    "    elif char.isdigit():\n",
    "        digits += 1\n",
    "    else:\n",
    "        symbols += 1\n",
    "print(\"Letters:\", letters)\n",
    "print(\"Digits:\", digits)\n",
    "print(\"Symbols:\", symbols)\n"
   ]
  },
  {
   "cell_type": "markdown",
   "id": "28fd618a",
   "metadata": {},
   "source": [
    "## Split a string on hyphens "
   ]
  },
  {
   "cell_type": "code",
   "execution_count": 13,
   "id": "6910589a",
   "metadata": {},
   "outputs": [
    {
     "name": "stdout",
     "output_type": "stream",
     "text": [
      "Enter the String with hyphens:Joey-Doesn't-Share-Food.\n",
      "['Joey', \"Doesn't\", 'Share', 'Food.']\n"
     ]
    }
   ],
   "source": [
    "orginal_str=input(\"Enter the String with hyphens:\")\n",
    "split_string = orginal_str.split(\"-\")\n",
    "print(split_string)"
   ]
  },
  {
   "cell_type": "markdown",
   "id": "9a406ed6",
   "metadata": {},
   "source": [
    "## Reverse a string"
   ]
  },
  {
   "cell_type": "code",
   "execution_count": 14,
   "id": "89b40b03",
   "metadata": {},
   "outputs": [
    {
     "name": "stdout",
     "output_type": "stream",
     "text": [
      "Enter the String Let's Reverse position\n",
      "noitisop esreveR s'teL\n"
     ]
    }
   ],
   "source": [
    "orginal_str=input(\"Enter the String \")[::-1]\n",
    "print(orginal_str)"
   ]
  },
  {
   "cell_type": "markdown",
   "id": "cfb2a45f",
   "metadata": {},
   "source": [
    "## Add unlimited numbers "
   ]
  },
  {
   "cell_type": "code",
   "execution_count": 33,
   "id": "c2215e68",
   "metadata": {},
   "outputs": [
    {
     "name": "stdout",
     "output_type": "stream",
     "text": [
      "6\n"
     ]
    }
   ],
   "source": [
    "def add_numbers(*args):\n",
    "    total = 0\n",
    "    for num in args:\n",
    "        total += num\n",
    "    return total\n",
    "result = add_numbers(1, 2, 3)\n",
    "print(result)  \n",
    "  \n",
    "\n",
    "\n"
   ]
  },
  {
   "cell_type": "markdown",
   "id": "bf56f5f8",
   "metadata": {},
   "source": [
    "## from user input"
   ]
  },
  {
   "cell_type": "code",
   "execution_count": 34,
   "id": "bd89cefe",
   "metadata": {},
   "outputs": [
    {
     "name": "stdout",
     "output_type": "stream",
     "text": [
      "Enter numbers separated by spaces: 1 25 65 \n",
      "91.0\n"
     ]
    }
   ],
   "source": [
    "def add_numbers():\n",
    "    total = 0\n",
    "    for num in Numbers:\n",
    "        total += float(num)\n",
    "    return total\n",
    "Numbers = input(\"Enter numbers separated by spaces: \").split()\n",
    "result = add_numbers()\n",
    "print(result)\n"
   ]
  }
 ],
 "metadata": {
  "kernelspec": {
   "display_name": "Python 3 (ipykernel)",
   "language": "python",
   "name": "python3"
  },
  "language_info": {
   "codemirror_mode": {
    "name": "ipython",
    "version": 3
   },
   "file_extension": ".py",
   "mimetype": "text/x-python",
   "name": "python",
   "nbconvert_exporter": "python",
   "pygments_lexer": "ipython3",
   "version": "3.10.2"
  }
 },
 "nbformat": 4,
 "nbformat_minor": 5
}
